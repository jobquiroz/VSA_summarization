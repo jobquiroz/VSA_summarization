{
 "cells": [
  {
   "cell_type": "markdown",
   "metadata": {},
   "source": [
    "The function *Summarize_texts* is called in this notebook.\n",
    "\n",
    "This function contains the following input parameters: \n",
    "\n",
    "- `max_d_list`: A list of values for the hyperparameter *max_d* (between [0, 1])\n",
    "- `diff_bits_list`: List of values for the *diff_bits* hyperparameter (between [0,5000])\n",
    "- `max_d_sent_list`: List of values for the  *max_d_sent* hyperparameter (between [0, 5000])\n",
    "- `size_summary`: Summary size, by default 200.\n",
    "- `texts_list`: Number of documents to summarize from 1 to 57 (all)\n",
    "- `Directory`: Location of the files to summarize\n",
    "- `Precalc_Directory`: Location to store precalc distances used to save time\n",
    "- `output_dir`: Final location of summary files\n"
   ]
  },
  {
   "cell_type": "markdown",
   "metadata": {},
   "source": [
    "### Calling summarization function"
   ]
  },
  {
   "cell_type": "code",
   "execution_count": 9,
   "metadata": {
    "scrolled": true
   },
   "outputs": [
    {
     "name": "stdout",
     "output_type": "stream",
     "text": [
      "d082a.txt\n",
      "d083a.txt\n",
      "d084a.txt\n",
      "d085d.txt\n",
      "d086d.txt\n",
      "d087d.txt\n",
      "d089d.txt\n",
      "d090d.txt\n",
      "d091c.txt\n",
      "d092c.txt\n",
      "d093c.txt\n",
      "d094c.txt\n",
      "d095c.txt\n",
      "d096c.txt\n",
      "d097e.txt\n",
      "d099e.txt\n",
      "d100e.txt\n",
      "d101e.txt\n",
      "d102e.txt\n",
      "d103g.txt\n",
      "d104g.txt\n",
      "d105g.txt\n",
      "d106g.txt\n",
      "d107g.txt\n",
      "d108g.txt\n",
      "d109h.txt\n",
      "d110h.txt\n",
      "d111h.txt\n",
      "d112h.txt\n",
      "d113h.txt\n",
      "d114h.txt\n",
      "d115i.txt\n",
      "d116i.txt\n",
      "d117i.txt\n",
      "d118i.txt\n",
      "d119i.txt\n",
      "d120i.txt\n"
     ]
    }
   ],
   "source": [
    "%run Summarize_Texts.ipynb\n",
    "\n",
    "Summarize_texts(max_d_list = [0.76],  # Entre [0,1] -> 0.9 buen valor\n",
    "              diff_bits_list = [2000],  # Entre [0, 5000] -> 2500 buen valor\n",
    "              max_d_sent_list = [4000], # Entre [0, 5000] -> 4500 buen valor\n",
    "              size_summary = 200)   # Tamaño del texto [100, 200, 400])"
   ]
  }
 ],
 "metadata": {
  "kernelspec": {
   "display_name": "Python 3",
   "language": "python",
   "name": "python3"
  },
  "language_info": {
   "codemirror_mode": {
    "name": "ipython",
    "version": 3
   },
   "file_extension": ".py",
   "mimetype": "text/x-python",
   "name": "python",
   "nbconvert_exporter": "python",
   "pygments_lexer": "ipython3",
   "version": "3.8.3"
  }
 },
 "nbformat": 4,
 "nbformat_minor": 2
}
