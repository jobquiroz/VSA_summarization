{
 "cells": [
  {
   "cell_type": "markdown",
   "metadata": {},
   "source": [
    "This notebook contains functions implementing the basic operations in Hyperdimensional Computing\n",
    "\n",
    "\n",
    "#### Libraries"
   ]
  },
  {
   "cell_type": "code",
   "execution_count": 5,
   "metadata": {},
   "outputs": [],
   "source": [
    "import numpy as np"
   ]
  },
  {
   "cell_type": "markdown",
   "metadata": {},
   "source": [
    "### Global variables"
   ]
  },
  {
   "cell_type": "code",
   "execution_count": 6,
   "metadata": {},
   "outputs": [],
   "source": [
    "Dict_HD = {}"
   ]
  },
  {
   "cell_type": "markdown",
   "metadata": {},
   "source": [
    "### Initializing memory"
   ]
  },
  {
   "cell_type": "code",
   "execution_count": 7,
   "metadata": {},
   "outputs": [],
   "source": [
    "def init(Dim = 10000):\n",
    "    \"Initialize vector 'null' and symbol matrix\"\n",
    "    global Dict, Memory, N, Dict_defs, feature_vectors, thr\n",
    "    N = Dim     # Vectors' lenght\n",
    "    Dict = {}; Memory = [[],[],[]]\n",
    "    Dict_defs = {}; feature_vectors = []\n",
    "    thr = 0.45 * N # Similarity threshold\n",
    "\n",
    "init()"
   ]
  },
  {
   "cell_type": "markdown",
   "metadata": {},
   "source": [
    "#### Random vectors and addition"
   ]
  },
  {
   "cell_type": "code",
   "execution_count": 8,
   "metadata": {},
   "outputs": [],
   "source": [
    "def SparseBitString(n):\n",
    "    \"\"\"This function generates a random binary vector\n",
    "    n: length of vector\n",
    "    BitString: Binary vector\"\"\"\n",
    "    # Generates random address indexes for setting them to 1\n",
    "    Address = np.random.choice( np.arange(n), int(n/2), replace = False) \n",
    "    # Initialize binary vector\n",
    "    BitString = np.zeros(n, dtype = np.int8)\n",
    "    # Set to 1 the address generated\n",
    "    BitString[Address] = 1\n",
    "    return BitString\n",
    "\n",
    "def ADD(*arg):\n",
    "    \" General function for vectors addition, it assumes that the arguments are 'HDvector' objects\"\n",
    "    if len(arg) == 1 and type(arg[0]) is list:\n",
    "        arg = arg[0]\n",
    "    len_0 = arg[0].lenght\n",
    "    Sum = np.zeros(len_0) # Initialize sum vector\n",
    "    n = len(arg) # Number of vectors to add\n",
    "    for vec in arg:\n",
    "        assert vec.lenght == len_0  # Are all dimensions equal??\n",
    "        Sum = Sum + vec.vec         # 'normal' sum\n",
    "    Sum = Sum / n                   # Average\n",
    "    Sum[Sum > 0.5] = 1              #Thresholding\n",
    "    Sum[Sum == 0.5] = SparseBitString(len_0)[Sum == 0.5]  # If average equal to 0.5 -> select a random value (0 or 1)\n",
    "    return HDvector(Sum.astype(np.int8))\n",
    "\n",
    "def contamina_vec(array, dif_bits):\n",
    "    \"Given a binary array and a integer (dif_bits), it retusn another array at a hamming distance of dif_bits\"\n",
    "    new_array = array.copy()\n",
    "    index_randm = np.random.randint(0, len(array)-1, dif_bits)\n",
    "    for i in np.unique(index_randm):\n",
    "        if new_array[i] == 0:\n",
    "            new_array[i] = 1\n",
    "        else:\n",
    "            new_array[i] = 0\n",
    "    return new_array"
   ]
  },
  {
   "cell_type": "markdown",
   "metadata": {},
   "source": [
    "### HD vector class"
   ]
  },
  {
   "cell_type": "code",
   "execution_count": 9,
   "metadata": {},
   "outputs": [],
   "source": [
    "# Hyperdimensional vectors class\n",
    "class HDvector (object):\n",
    "    # We can initialize our vector with its content (array) or its length (content random)\n",
    "    def __init__ (self, vec_or_len, label = None, pointer = None):\n",
    "        global Memory   # We use this global variable\n",
    "    \n",
    "        if type(vec_or_len) is int: # Initializing vector by lenght\n",
    "            self.lenght = vec_or_len\n",
    "            self.vec = SparseBitString(vec_or_len)\n",
    "            \n",
    "        elif type(vec_or_len) is np.ndarray:   # Initializing vector by content\n",
    "            self.lenght = len(vec_or_len)\n",
    "            self.vec = vec_or_len\n",
    "            \n",
    "        else:\n",
    "            raise TypeError(\"Input has to be integer (length) or numpy array\")\n",
    "        \n",
    "        # If a string label is given, the initialized vector is added in the global catalog\n",
    "        if label in Memory[1]:\n",
    "            raise NameError(\"Label '\" + str(label) + \"'is already in catalog!\")\n",
    "        elif label:\n",
    "            Memory[1].append(label)\n",
    "            Memory[2].append(pointer)\n",
    "            if len(Memory[0]) != 0:\n",
    "                Memory[0] = np.concatenate((Memory[0], self.vec.reshape((1,N))))\n",
    "            else:\n",
    "                Memory[0] = self.vec.reshape((1,N))\n",
    "            Dict[label] = self   # label is linked to vector -> (added to global dictionary)\n",
    "            \n",
    "        self.label = label       # assigning vector label\n",
    "        self.pointer = pointer   # assigning pointer (vector)\n",
    "        \n",
    "        # Index of this object in global Memory...\n",
    "        self.index = len(Memory[0]) - 1\n",
    "    \n",
    "    \n",
    "    # Getters\n",
    "    def getVec(self):   # it returns the array of the HD vector object\n",
    "        return self.vec\n",
    "    \n",
    "    \n",
    "    def getLabelID (self, num = N): # return label, it can be its assigned label or a list of the 'num' closest vectors labels\n",
    "        if self.label:  # if it has an assigned label\n",
    "            return [[self.label, 0]]\n",
    "        \n",
    "        else: #This vector hasn't a label. We find the 'num' most similar vectors in dictionary return a list of them\n",
    "            HamVec = np.array([self.dist_vec(x) for x in Memory[0]]) #Distance to all vectors in memory\n",
    "            # Indices where HamVec[i] < similarity threshold\n",
    "            Indices = np.where(HamVec < thr)[0]\n",
    "            # Cutting list to 'num'\n",
    "            Indices = Indices[:num]\n",
    "            # Result is a list of lists [label, distance]\n",
    "            L = [[Memory[1][i], HamVec[i]] for i in Indices]\n",
    "            return sorted(L, key = lambda r: r[1])\n",
    "                \n",
    "    def getLabelSP(self, num = N):   #get label of vector by searching in definitions...\n",
    "        # Collect indeces where there's an actual pointer vector...\n",
    "        Index = [i for i,x in enumerate(Memory[2]) if type(x) == np.ndarray]\n",
    "        HamVec = np.array([self.dist_vec(Memory[2][x]) for x in Index])\n",
    "        Indices = np.where(HamVec < thr)[0]  # Indices below similarity threshold\n",
    "        Indices = Indices[:num]\n",
    "        \n",
    "        #Result is a list of lists [label,distance]\n",
    "        L = [[Memory[1][Index[i]], HamVec[i]] for i in Indices]\n",
    "        return sorted(L, key = lambda r: r[1])\n",
    "        \n",
    "    def getPointer(self):\n",
    "        return self.pointer\n",
    "    \n",
    "    # Setters\n",
    "    def setContent(self, in_array): #Set a new content\n",
    "        self.vec = in_array\n",
    "    def setPointer(self, other):    #Set a vector to point to\n",
    "        self.pointer = other\n",
    "        Memory[2][self.index] = other.getVec()  #setting new vector..\n",
    "    \n",
    "    # Distance\n",
    "    def dist(self, other):        #Measure distance between two object vectors\n",
    "        assert self.lenght == other.lenght    #Sanity check\n",
    "        return np.count_nonzero(self.vec != other.vec)\n",
    "    def dist_vec(self, vecc):      #Measure distance between an object vector and a numpy array (sometimes useful)\n",
    "        assert self.lenght == len(vecc)      #Sanity check\n",
    "        return np.count_nonzero(self.vec != vecc)\n",
    "    \n",
    "    # Arithmetic \n",
    "    def p(self, times):     #Pemutation aka rolling\n",
    "        return HDvector(np.roll(self.vec, times))\n",
    "    def ip(self, times):    #Inverse permutation aka inverse rolling\n",
    "        return HDvector(np.roll(self.vec, self.lenght - times))\n",
    "    def __add__(self, other): #Add\n",
    "        return ADD(self, other)\n",
    "    def __mul__(self, other):  #Multiplication\n",
    "        return HDvector( np.bitwise_xor(self.vec, other.vec))\n",
    "    def __pow__(self, other):  #Function that multiplies self's pointer by other's vector\n",
    "        if isinstance(self.getPointer(), HDvector):\n",
    "            return HDvector(np.bitwise_xor(self.getPointer().getVec(), other.vec))\n",
    "    # Other functions\n",
    "    def conc (self, other):  #Concatenate two vector objects arrays\n",
    "        return HDvector(np.concatenate((self.vec, other.vec)))\n",
    "    def __str__(self):\n",
    "        return str(self.vec)"
   ]
  },
  {
   "cell_type": "code",
   "execution_count": null,
   "metadata": {},
   "outputs": [],
   "source": []
  }
 ],
 "metadata": {
  "kernelspec": {
   "display_name": "Python 3",
   "language": "python",
   "name": "python3"
  },
  "language_info": {
   "codemirror_mode": {
    "name": "ipython",
    "version": 3
   },
   "file_extension": ".py",
   "mimetype": "text/x-python",
   "name": "python",
   "nbconvert_exporter": "python",
   "pygments_lexer": "ipython3",
   "version": "3.8.3"
  }
 },
 "nbformat": 4,
 "nbformat_minor": 4
}
